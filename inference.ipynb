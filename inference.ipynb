{
 "cells": [
  {
   "cell_type": "code",
   "execution_count": 8,
   "metadata": {},
   "outputs": [],
   "source": [
    "import torch\n",
    "import torch.nn as nn\n",
    "from models.transformerTagger import TransformerTagger\n",
    "from models.transformerTagger import PositionalEncoder\n",
    "from dataset.dataset import NERDataset\n",
    "from torch.utils.data import DataLoader\n",
    "from torch.nn.utils.rnn import pad_sequence\n",
    "import torch\n",
    "import datetime as dt\n",
    "from torch.utils.tensorboard import SummaryWriter\n",
    "from torchmetrics import F1Score, Accuracy, Precision, Recall\n",
    "from typing import Sequence, Optional, Union, Tuple\n",
    "import utils"
   ]
  },
  {
   "cell_type": "code",
   "execution_count": 9,
   "metadata": {},
   "outputs": [
    {
     "name": "stderr",
     "output_type": "stream",
     "text": [
      "/opt/miniconda3/envs/nertag_env/lib/python3.8/site-packages/torch/autocast_mode.py:141: UserWarning: User provided device_type of 'cuda', but CUDA is not available. Disabling\n",
      "  warnings.warn('User provided device_type of \\'cuda\\', but CUDA is not available. Disabling')\n"
     ]
    }
   ],
   "source": [
    "train_data = NERDataset(tokenizer=\"spacy\", cased=False, mode='train')\n",
    "test_data = NERDataset(tokenizer=\"spacy\", cased=False, mode='test')\n",
    "val_data = NERDataset(tokenizer=\"spacy\", cased=False, mode='valid')\n",
    "\n",
    "TODAY = dt.datetime.today().strftime(\"%Y-%m-%d\")\n",
    "nhead = 16\n",
    "no_dense_layers = 5\n",
    "d_model = 512\n",
    "layer_norm_eps = 0.01\n",
    "batch_size = 256\n",
    "\n",
    "\n",
    "torch.autograd.set_detect_anomaly(True)\n",
    "torch.cuda.amp.autocast(enabled=True)\n",
    "\n",
    "f1 = F1Score(num_classes=train_data.ntargets, threshold=0.5)\n",
    "accu = Accuracy(threshold=0.5, num_classes=train_data.ntargets)\n",
    "precision = Precision(num_classes=train_data.ntargets)\n",
    "recall = Recall(num_classes=train_data.ntargets, threshold=0.5)\n",
    "\n",
    "feature_padding_value = train_data._tokenidx.get(train_data.pad_token)\n",
    "tag_padding_value = train_data._targetidx.get(train_data.pad_token)\n",
    "\n",
    "def collate_fn(data: Sequence[Tuple], \n",
    "    n_classes: int=train_data.ntargets,\n",
    "    feature_padding_value=feature_padding_value,\n",
    "    tag_padding_value=tag_padding_value,):\n",
    "    \"\"\":return: features, target_prob, target, mask (save dims as target_prob)\"\"\"\n",
    "    features, target_prob, targets, idx = zip(*data)\n",
    "    features = pad_sequence(features, batch_first=True, padding_value=feature_padding_value)\n",
    "    targets = pad_sequence(targets, batch_first=True, padding_value=tag_padding_value)\n",
    "    max_len = targets.shape[1]\n",
    "    batch_size=targets.shape[0]\n",
    "    target_prob, target_mask = utils.pad_target_prob(target_prob, n_classes - 1, max_len, n_classes, batch_size)\n",
    "\n",
    "    return (idx,\n",
    "        features.long(), target_prob.to(torch.float64), \n",
    "        targets.long(), target_mask.bool()\n",
    "        )\n",
    "\n",
    "test_dataloader = DataLoader(train_data, \n",
    "    shuffle=True, \n",
    "    batch_size=batch_size, \n",
    "    collate_fn=collate_fn\n",
    "        )\n",
    "\n",
    "\n",
    "model = TransformerTagger(d_model=d_model, \n",
    "    n_tags=train_data.ntargets, \n",
    "    vocab_size=train_data.vocab_size + 1,\n",
    "    layer_norm_eps=layer_norm_eps,\n",
    "    activation=torch.tanh,\n",
    "    nhead=nhead, \n",
    "    batch_first=True, \n",
    "    no_dense_layers=no_dense_layers,\n",
    "    pad_token_idx=train_data._tokenidx.get(train_data.pad_token))"
   ]
  },
  {
   "cell_type": "code",
   "execution_count": 12,
   "metadata": {},
   "outputs": [
    {
     "data": {
      "text/plain": [
       "<All keys matched successfully>"
      ]
     },
     "execution_count": 12,
     "metadata": {},
     "output_type": "execute_result"
    }
   ],
   "source": [
    "model.load_state_dict(torch.load(\"./checkpoints/2022-11-15_runo11.pt\"))"
   ]
  },
  {
   "cell_type": "code",
   "execution_count": 13,
   "metadata": {},
   "outputs": [],
   "source": [
    "model.eval()\n",
    "counter, train_precision, train_recall, train_f1, train_accu = 0., 0., 0., 0., 0.,\n",
    "for i, data in enumerate(test_dataloader):\n",
    "    idx, src, tag_prob, tags, mask = data\n",
    "    pred = model(src, src, mask)\n",
    "    for j, (prd, truth, mk) in enumerate(zip(pred, tags, mask)):\n",
    "        train_precision += precision(prd[~mk], truth.masked_select(~mk).long()).item()\n",
    "        train_recall += recall(prd[~mk], truth.masked_select(~mk).long()).item()\n",
    "        train_f1 += f1(prd[~mk], truth.masked_select(~mk).long()).item()\n",
    "        train_accu += accu(prd[~mk], truth.masked_select(~mk).long()).item()\n",
    "        counter += 1"
   ]
  }
 ],
 "metadata": {
  "kernelspec": {
   "display_name": "Python 3.8.13 ('nertag_env')",
   "language": "python",
   "name": "python3"
  },
  "language_info": {
   "codemirror_mode": {
    "name": "ipython",
    "version": 3
   },
   "file_extension": ".py",
   "mimetype": "text/x-python",
   "name": "python",
   "nbconvert_exporter": "python",
   "pygments_lexer": "ipython3",
   "version": "3.8.13"
  },
  "orig_nbformat": 4,
  "vscode": {
   "interpreter": {
    "hash": "424c7353beb65ff7806076110381ef720621ee737b7945f822cfb9d802c17471"
   }
  }
 },
 "nbformat": 4,
 "nbformat_minor": 2
}
