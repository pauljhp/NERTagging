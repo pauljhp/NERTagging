{
 "cells": [
  {
   "cell_type": "code",
   "execution_count": 88,
   "metadata": {},
   "outputs": [],
   "source": [
    "from dataset.dataset import NERDataset\n",
    "from torch.utils.data import DataLoader\n",
    "import numpy as np\n",
    "from typing import Sequence, List, Tuple\n",
    "\n",
    "train_data = NERDataset(tokenizer=\"glove\", cased=True, mode='train')\n",
    "val_data = NERDataset(tokenizer=\"glove\", cased=False, mode='valid')"
   ]
  },
  {
   "cell_type": "markdown",
   "metadata": {},
   "source": [
    "## 1. Main train loop\n"
   ]
  },
  {
   "cell_type": "code",
   "execution_count": 13,
   "metadata": {},
   "outputs": [],
   "source": [
    "import torch.optim as optim\n",
    "import torch.nn as nn\n",
    "import torch\n",
    "from models.transformerTagger import TransformerTagger\n",
    "from models.lstmTagger import LSTMTagger\n",
    "from models.transformerTagger import PositionalEncoder\n",
    "from torch.utils.data import DataLoader\n",
    "from torch.nn.utils.rnn import pad_sequence\n",
    "import torch\n",
    "import datetime as dt\n",
    "from torch.utils.tensorboard import SummaryWriter\n",
    "from torchmetrics import F1Score, Accuracy, Precision, Recall\n",
    "import utils\n",
    "import time\n",
    "from collections import Counter\n",
    "import itertools\n",
    "import pandas as pd\n",
    "import torch\n",
    "\n",
    "\n",
    "TODAY = dt.datetime.today().strftime(\"%Y-%m-%d\")\n",
    "\n",
    "BATCH_SIZE = 256\n",
    "BASE_LR = 1e-3\n",
    "MAX_EPOCHS = 20\n",
    "RUN_NO = 1\n",
    "LOG_DIR = \"./log/traininglog\"\n",
    "MINIBATCH_SIZE = 16\n",
    "WRITER = SummaryWriter(log_dir=f\"{LOG_DIR}/{TODAY}_runno_{RUN_NO}\")\n",
    "SAVE_EVERY = 5\n",
    "SAVE_DIR = f\"./checkpoints/{TODAY}_runo{RUN_NO}.pt\"\n",
    "num_decoder_layers = 8\n",
    "num_encoder_layers = 8\n",
    "d_model = 256\n",
    "nhead = 32\n",
    "num_dense_layers = 7\n",
    "model_type = \"lstm\"\n",
    "layer_norm_eps = .001\n",
    "lstm_input_size = 256\n",
    "\n",
    "\n",
    "class_weights = pd.Series(Counter(itertools.chain(*[[i.item() for i in t] \n",
    "    for t in train_data.data.target_idx])))\n",
    "# class_weights /= class_weights.sum()\n",
    "class_weights = 1 / class_weights\n",
    "class_weights.loc[0] = 0\n",
    "class_weights = torch.tensor(class_weights.sort_index().values)\n",
    "\n",
    "\n",
    "f1 = F1Score(num_classes=10, threshold=0.2)\n",
    "accu = Accuracy(threshold=0.2, num_classes=10)\n",
    "precision = Precision(num_classes=10)\n",
    "recall = Recall(num_classes=10, threshold=0.2)\n",
    "\n",
    "feature_padding_value = train_data._tokenidx.get(train_data.pad_token)\n",
    "tag_padding_value = train_data._targetidx.get(train_data.pad_token)\n",
    "\n",
    "def collate_fn(data: Sequence[Tuple], \n",
    "    n_classes: int=train_data.ntargets,\n",
    "    feature_padding_value=feature_padding_value,\n",
    "    tag_padding_value=tag_padding_value,):\n",
    "    \"\"\":return: features, target_prob, target, mask (save dims as target_prob)\"\"\"\n",
    "    features, target_prob, targets, idx = zip(*data)\n",
    "    features = pad_sequence(features, batch_first=True, padding_value=feature_padding_value)\n",
    "    targets = pad_sequence(targets, batch_first=True, padding_value=tag_padding_value)\n",
    "    max_len = targets.shape[1]\n",
    "    batch_size=targets.shape[0]\n",
    "    target_prob, target_mask = utils.pad_target_prob(target_prob, n_classes - 1, max_len, n_classes, batch_size)\n",
    "\n",
    "    return (idx, \n",
    "        features.long(), target_prob.to(torch.float64), \n",
    "        targets.long(), target_mask.bool()\n",
    "        )\n",
    "\n",
    "train_dataloader = DataLoader(train_data, \n",
    "    shuffle=True, \n",
    "    batch_size=BATCH_SIZE, \n",
    "    collate_fn=collate_fn\n",
    "        )\n",
    "\n",
    "val_dataloader = DataLoader(val_data, \n",
    "    shuffle=True, \n",
    "    batch_size=BATCH_SIZE, \n",
    "    collate_fn=collate_fn\n",
    "        )\n",
    "\n",
    "if model_type.lower() in [\"transformer\", \"tranformertagger\"]:\n",
    "    model = TransformerTagger(d_model=d_model, \n",
    "            n_tags=train_data.ntargets, \n",
    "            vocab_size=train_data.vocab_size + 1,\n",
    "            nhead=nhead, \n",
    "            batch_first=True, \n",
    "            num_decoder_layers=num_decoder_layers,\n",
    "            num_encoder_layers=num_encoder_layers,\n",
    "            num_dense_layers=num_dense_layers,\n",
    "            pad_token_idx=train_data._tokenidx.get(train_data.pad_token))\n",
    "\n",
    "elif model_type.lower() in [\"lstm\", \"lstmtagger\"]:\n",
    "    model = LSTMTagger(d_model=d_model,\n",
    "        n_tags=train_data.ntargets, \n",
    "        num_decoder_layers=num_decoder_layers,\n",
    "        num_encoder_layers=num_decoder_layers,\n",
    "        vocab_size=train_data.vocab_size + 1,\n",
    "        layer_norm_eps=layer_norm_eps,\n",
    "        activation=torch.tanh,\n",
    "        input_size=lstm_input_size,\n",
    "        batch_first=True, \n",
    "        num_dense_layers=num_dense_layers,\n",
    "        pad_token_idx=train_data._tokenidx.get(train_data.pad_token)\n",
    "    )\n",
    "\n",
    "\n",
    "\n",
    "\n",
    "optimizer = optim.Adam(params=model.parameters(), \n",
    "    lr=BASE_LR,\n",
    "    eps=1e-5,\n",
    "    betas=(0.9, 0.99))\n",
    "\n",
    "criterion = nn.NLLLoss(ignore_index=0, reduction='mean')\n",
    "start = time.time()\n",
    "\n",
    "global_step = 1\n",
    "try:\n",
    "    for epoch in range(MAX_EPOCHS):\n",
    "        print(f\"running epoch {epoch}\")\n",
    "        running_loss = 0.\n",
    "        model.train()\n",
    "        counter = 0\n",
    "        train_precision, train_recall, train_f1, train_accu = 0., 0., 0., 0.\n",
    "        for i, data in enumerate(train_dataloader):\n",
    "            print(f\"iter_no{i}\")\n",
    "            optimizer.zero_grad()\n",
    "            idx, src, tag_prob, tags, mask = data\n",
    "            if model_type.lower() in [\"lstm\", \"lstmtagger\"]:\n",
    "                pred = model(src, mask)\n",
    "            elif model_type.lower() in [\"transformer\", \"transformertagger\"]:\n",
    "                pred = model(src, src, mask)\n",
    "            else: raise ValueError(\"model type not recognized\")\n",
    "            loss = criterion(pred[~mask], tags[~mask])\n",
    "            for j, (prd, truth, mk) in enumerate(zip(pred, tags, mask)):\n",
    "                # loss += criterion(prd[~mk], truth.masked_select(~mk).long())\n",
    "                train_precision += precision(prd[~mk], truth.masked_select(~mk).long()).item()\n",
    "                train_recall += recall(prd[~mk], truth.masked_select(~mk).long()).item()\n",
    "                train_f1 += f1(prd[~mk], truth.masked_select(~mk).long()).item()\n",
    "                train_accu += accu(prd[~mk], truth.masked_select(~mk).long()).item()\n",
    "                counter += 1\n",
    "            loss.backward()\n",
    "            optimizer.step()\n",
    "            torch.nn.utils.clip_grad_norm_(model.parameters(), \n",
    "                max_norm=1e2, \n",
    "                norm_type=2.0, \n",
    "                error_if_nonfinite=False) # gradient clipping\n",
    "            running_loss += loss.item()\n",
    "            WRITER.add_scalar(\"train/loss\", loss.item(), \n",
    "                    walltime=time.time()-start,\n",
    "                    global_step=global_step)\n",
    "            break\n",
    "        break\n",
    "except Exception as exp:\n",
    "    print(exp)"
   ]
  },
  {
   "cell_type": "markdown",
   "metadata": {},
   "source": [
    "## 1.1 Check model size"
   ]
  },
  {
   "cell_type": "code",
   "execution_count": 14,
   "metadata": {},
   "outputs": [
    {
     "data": {
      "text/plain": [
       "31.143434"
      ]
     },
     "execution_count": 14,
     "metadata": {},
     "output_type": "execute_result"
    }
   ],
   "source": [
    "import utils\n",
    "utils.get_num_params(model) / 1e6"
   ]
  },
  {
   "cell_type": "markdown",
   "metadata": {},
   "source": [
    "## 2. Check dataset properties"
   ]
  },
  {
   "cell_type": "code",
   "execution_count": null,
   "metadata": {},
   "outputs": [
    {
     "name": "stderr",
     "output_type": "stream",
     "text": [
      "/var/folders/nv/5lrdv19x6516010dtwg9ny440000gn/T/ipykernel_68106/3348950956.py:2: FutureWarning: In a future version of pandas all arguments of Series.sort_index will be keyword-only.\n",
      "  class_weights.sort_index(0).plot(kind=\"bar\", figsize=(10, 5), title=\"tag distribution in the training data\")\n"
     ]
    },
    {
     "data": {
      "text/plain": [
       "<AxesSubplot:title={'center':'tag distribution in the training data'}>"
      ]
     },
     "metadata": {},
     "output_type": "display_data"
    },
    {
     "data": {
      "image/png": "[encoded data removed]",
      "text/plain": [
       "<Figure size 1000x500 with 1 Axes>"
      ]
     },
     "metadata": {},
     "output_type": "display_data"
    }
   ],
   "source": [
    "class_weights.rename(train_data._target_lookup, inplace=True)\n",
    "class_weights.sort_index(0).plot(kind=\"bar\", figsize=(10, 5), title=\"tag distribution in the training data\")"
   ]
  },
  {
   "cell_type": "code",
   "execution_count": 25,
   "metadata": {},
   "outputs": [
    {
     "name": "stdout",
     "output_type": "stream",
     "text": [
      "[' train: 14986', ' val: 3465', ' test: 3683']\n"
     ]
    }
   ],
   "source": [
    "print([f\"\"\"{x}: {eval(f\"len({x}_data.data)\")}\"\"\" for x in [\"train\", \"val\", \"test\"]])"
   ]
  },
  {
   "cell_type": "code",
   "execution_count": 38,
   "metadata": {},
   "outputs": [],
   "source": [
    "total_num_tokens = train_data.data.text_idx.apply(lambda x: len(x)).sum()"
   ]
  },
  {
   "cell_type": "code",
   "execution_count": 41,
   "metadata": {},
   "outputs": [],
   "source": [
    "import itertools\n",
    "from collections import Counter\n",
    "top_tokens = Counter(itertools.chain(\n",
    "    *train_data.data.text_idx.apply(lambda x: [i.item() for i in x])\n",
    "    )).most_common(50)"
   ]
  },
  {
   "cell_type": "code",
   "execution_count": 44,
   "metadata": {},
   "outputs": [],
   "source": [
    "top_tokens = pd.DataFrame(top_tokens, columns=[\"token_id\", \"token_count\"])\n",
    "top_tokens.token_count = top_tokens.token_count / total_num_tokens\n",
    "top_tokens.token_id = top_tokens.token_id.apply(train_data.get_token_from_idx)"
   ]
  },
  {
   "cell_type": "code",
   "execution_count": 64,
   "metadata": {},
   "outputs": [
    {
     "data": {
      "text/plain": [
       "<AxesSubplot:title={'center':'train data sentence length distribution'}, ylabel='Density'>"
      ]
     },
     "execution_count": 64,
     "metadata": {},
     "output_type": "execute_result"
    },
    {
     "data": {
      "image/png": "[encoded data removed]",
      "text/plain": [
       "<Figure size 1000x500 with 1 Axes>"
      ]
     },
     "metadata": {},
     "output_type": "display_data"
    }
   ],
   "source": [
    "train_data.data.text_idx.apply(lambda x: len(x)).plot(kind=\"kde\", xlim=(-5, 128), \n",
    "    figsize=(10, 5),\n",
    "    title=\"train data sentence length distribution\")"
   ]
  },
  {
   "cell_type": "code",
   "execution_count": 6,
   "metadata": {},
   "outputs": [],
   "source": [
    "import json\n",
    "from pathlib import Path\n",
    "\n",
    "with Path(\"./embeddings/spacy_train_cased_2022-11-13.json\").open(\"w\") as f: \n",
    "    json.dump(train_data._tokenidx, f)"
   ]
  },
  {
   "cell_type": "code",
   "execution_count": 8,
   "metadata": {},
   "outputs": [],
   "source": [
    "with Path(\"./embeddings/nertag_idx.json\").open(\"w\") as f: \n",
    "    json.dump(train_data._targetidx, f)"
   ]
  },
  {
   "cell_type": "code",
   "execution_count": 31,
   "metadata": {},
   "outputs": [
    {
     "data": {
      "text/plain": [
       "tensor(0.)"
      ]
     },
     "execution_count": 31,
     "metadata": {},
     "output_type": "execute_result"
    }
   ],
   "source": [
    "from torchmetrics import F1Score, Accuracy, Precision, Recall\n",
    "f1 = F1Score(num_classes=10, threshold=0.5)\n",
    "accu = Accuracy(threshold=0.5, num_classes=10)\n",
    "precision = Precision(num_classes=10)\n",
    "recall = Recall(num_classes=10, threshold=0.5)\n",
    "f1(pred_prob[0], tag_prob[0].long())"
   ]
  }
 ],
 "metadata": {
  "kernelspec": {
   "display_name": "Python 3.8.13 ('nertag_env')",
   "language": "python",
   "name": "python3"
  },
  "language_info": {
   "codemirror_mode": {
    "name": "ipython",
    "version": 3
   },
   "file_extension": ".py",
   "mimetype": "text/x-python",
   "name": "python",
   "nbconvert_exporter": "python",
   "pygments_lexer": "ipython3",
   "version": "3.8.13"
  },
  "orig_nbformat": 4,
  "vscode": {
   "interpreter": {
    "hash": "424c7353beb65ff7806076110381ef720621ee737b7945f822cfb9d802c17471"
   }
  }
 },
 "nbformat": 4,
 "nbformat_minor": 2
}
